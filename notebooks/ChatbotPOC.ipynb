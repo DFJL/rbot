{
 "cells": [
  {
   "cell_type": "markdown",
   "metadata": {
    "id": "O1m3eNGq2r6O"
   },
   "source": [
    "# Chatbot Sandox"
   ]
  },
  {
   "cell_type": "markdown",
   "metadata": {
    "id": "-XDGIy-k2liP"
   },
   "source": [
    "## Introduction"
   ]
  },
  {
   "cell_type": "markdown",
   "metadata": {
    "id": "02Us6DEH2kb2"
   },
   "source": [
    "The aim of this notebook is to explore chatbot open source technologies in order to **design and deploy a Proof of Concept** of an Artificial Inteligence agent for a **educational and teaching use case**."
   ]
  },
  {
   "cell_type": "markdown",
   "metadata": {
    "id": "G18QtSQ73D22"
   },
   "source": [
    "## Sources review\n",
    "\n",
    "The first step for this POC will be the revision of open source technologies available, use cases and examples throughout the web that works as guide and implementation ideas.The following is a summary of the main sources found and the key takeaways from these sources:"
   ]
  },
  {
   "cell_type": "markdown",
   "metadata": {
    "id": "DH0sxTZE4KsF"
   },
   "source": [
    "\n",
    "\n",
    "### 1-  [Building a FAQ Chatbot in Python – The Future of Information Searching](https://www.analyticsvidhya.com/blog/2018/01/faq-chatbots-the-future-of-information-searching/)\n",
    "\n",
    "*   **Framework used**: RASA NLU.RASA-NLU builds a local NLU (Natural Language Understanding) model for extracting intent and entities from a conversation. It’s open source, fully local and above all, free!\n",
    "Below it´s an example of RASA architecture:\n",
    "![RASA Framework](https://cdn.analyticsvidhya.com/wp-content/uploads/2018/01/Bot-Arch.png)\n",
    "\n",
    "A RASA-NLU platform needs to be trained before we start using it. We need to supply it with a few sentences and mention which are the **intents and entities** in it. Intents are the actions/categories of the sentences and entities are the necessary variables needed to fulfil the actions.\n",
    "\n",
    "For example, “I wish to book a flight from Mumbai to Pune on 27 March” has “flight-booking” as the intent and “Mumbai”,” Pune” and “27 March” as the entities.This training data is stored in a json, for example:\n",
    "\n",
    "\n",
    "\n",
    "```\n",
    "{\n",
    "        \"text\": \"show me a mexican place in the centre\",\n",
    "        \"intent\": \"restaurant_search\",\n",
    "        \"entities\": [\n",
    "          {\n",
    "            \"start\": 31,\n",
    "            \"end\": 37,\n",
    "            \"value\": \"centre\",\n",
    "            \"entity\": \"location\"\n",
    "          },\n",
    "          {\n",
    "            \"start\": 10,\n",
    "            \"end\": 17,\n",
    "            \"value\": \"mexican\",\n",
    "            \"entity\": \"cuisine\"\n",
    "          }\n",
    "        ]\n",
    "}\n",
    "```\n",
    "We can use an online UI to build intercatively the data [here](https://rasahq.github.io/rasa-nlu-trainer/)\n",
    "\n",
    "\n",
    "*  **Other information in the source**: The source contains tutorial to deploy the RASA server and the RASA engine(the heart of the chatbot, where the model is trained).\n"
   ]
  },
  {
   "cell_type": "markdown",
   "metadata": {
    "id": "a9c5EJYV4j4z"
   },
   "source": [
    "### 2 [Building A Whatsapp Chatbot With Python ChatterBot + Flask+ Ngrok+Twilio](https://medium.com/analytics-vidhya/building-a-whatsapp-chatbot-with-python-chatterbot-flask-ngrok-twilio-877e29e7511f)\n",
    "\n",
    "*   **Framework Used**: \n",
    "Chatterbot.It’s a Python Library that once you feed it with query-response training data, “selects the closest matching response by searching for the closest matching known statement that matches the input, it then returns the most likely response to that statement based on how frequently each response is issued by the people the bot communicates with.” \n",
    "*  This means that this is a library to develop a FAQ chatbot.\n",
    "*   Webserver: Using ```flask```as a easy solution to deploy the chatbot and then ``` ngrok``` to expose the web service to the internet( this is not a safe procedure). from localhost.\n",
    "* Twilio: This app uses Twilio to deploy the chatbot to WhatsApp and provides some guidance in that regards.\n",
    "\n"
   ]
  },
  {
   "cell_type": "markdown",
   "metadata": {
    "id": "k_0aOvS5G8R8"
   },
   "source": [
    "### 3 [Building Scheduled Report through WhatsApp using Python](https://medium.com/analytics-vidhya/building-scheduled-report-through-whatsapp-using-python-57ca704d0eb6)\n",
    "\n",
    "* **Framework used:** This app utilizes twilio to create an automated report to send messages to whatsapp.This tutorial provides a comprehensive step by step guide to connect python with Twilio.\n",
    "\n",
    "* The app is deployed in **Heroku**, which is an online server that provides free tier to develop POCs.\n",
    "\n",
    "* Although this is not a chatbot app, it contains important pieces for the framework such as Twilio connection and heroku deployment.\n"
   ]
  },
  {
   "cell_type": "markdown",
   "metadata": {
    "id": "p4-1aVdAIEE0"
   },
   "source": [
    "### 4 [I Built a Python WhatsApp Bot to Keep Me Sane During Quarantine](https://python.plainenglish.io/i-built-a-python-whatsapp-bot-to-keep-me-sane-during-quarantine-f2f97a092a3b)\n",
    "\n",
    "* **Framework used** This app uses Twilio API as long as third party APIs to develop a whatsapp service that provides several information to the user.\n",
    "* The app is deployed in pythonanywhere that uses ```django``` as web framework.\n",
    "* This app is interesting as provides how to deploy to whatsapps and send images instead of just text to the user and also provides another alternative for hosting, which is pythonanywhere."
   ]
  },
  {
   "cell_type": "markdown",
   "metadata": {
    "id": "KlTMKh9zKzZw"
   },
   "source": [
    "### 5 [Building a Conversational Chatbot for Slack using Rasa and Python -Part 1](https://towardsdatascience.com/building-a-conversational-chatbot-for-slack-using-rasa-and-python-part-1-bca5cc75d32f)\n",
    "\n",
    "* **Framework used** :This article also uses **RASA NLU** to develop a conversational bot.A Conversation chatbot understands the context of the conversation and can handle any user goal gracefully and help accomplish it as best as possible. This doesn’t always mean that the bot will be able to answer all questions but it can handle the conversation well.\n",
    "* The bot was deployed in **Slack**.\n",
    "\n",
    "* Provides further information of how RASA works, including the two key components of RASA Stack, that we will need to create in order to develop a fully functional chatbot:\n",
    "\n",
    "1.   **Rasa NLU**: a library for natural language understanding with **intent classification and entity extraction**. This helps the chatbot to understand what the user is saying.\n",
    "\n",
    "2.   **Rasa Core**: a chatbot framework with machine learning-based dialogue management **that predicts the next best action based on the input from NLU**, the conversation history, and the training data.\n",
    "\n",
    "* The article also describes how to create the data needed for the NLU engine as well as the Core engine for the dialogue management.\n",
    "\n",
    "\n"
   ]
  },
  {
   "cell_type": "markdown",
   "metadata": {
    "id": "rNVWM66OEfwT"
   },
   "source": [
    "## Scope \n",
    "\n",
    "The scope of this POC is to build a first iteration of a chatbot of an introductory course of the R Programming Language, which allows students to review each lesson and revisit the contents to validate the learning and ask for clarification if is needed.\n",
    "\n",
    "Goals of this POC:\n",
    "\n",
    "0- Getting used to the platform running a sample bot to understand the pipeline of training a chatbot and the major considerations.\n",
    "\n",
    "1- Create a MVP with a mix of make up data ( intent questions and stories) and data from previous courses of questions already asked by students.This MVP will be a first iteration which objective is getting use to the framework and algorithms.\n",
    "\n",
    "2- Improve data collection with more real data examples, to retrain the models and increase the model accuracy.\n",
    "\n",
    "3- Deploy the model to slack for first testing and then consider the option of deployment to other channels such as WhatApp.\n",
    "\n",
    "5- Improve the chatbot capabilities , such as the ability to create scoring tests for the students in order to evaluate and measure the learning process, send feedback in other formats such as images or videos and provide other functionality such as handle administrative questions."
   ]
  },
  {
   "cell_type": "markdown",
   "metadata": {
    "id": "XBevsRxAj9ge"
   },
   "source": [
    "# Goal 0"
   ]
  },
  {
   "cell_type": "markdown",
   "metadata": {
    "id": "okgmVoiYHwdi"
   },
   "source": [
    "## Setting the Environment"
   ]
  },
  {
   "cell_type": "code",
   "execution_count": 1,
   "metadata": {
    "colab": {
     "base_uri": "https://localhost:8080/",
     "height": 1000
    },
    "executionInfo": {
     "elapsed": 138629,
     "status": "ok",
     "timestamp": 1620784822431,
     "user": {
      "displayName": "Felipe Jiménez",
      "photoUrl": "",
      "userId": "07174056181280808378"
     },
     "user_tz": 360
    },
    "id": "m7OSXJmpMxAO",
    "outputId": "9c02876f-2ee5-4358-bf83-622ce1a47024"
   },
   "outputs": [],
   "source": [
    "#Installing RASA\n",
    "\n",
    "#!pip install rasa==1.10.3 # Installing this version due to tensorflow conflicts"
   ]
  },
  {
   "cell_type": "code",
   "execution_count": null,
   "metadata": {
    "colab": {
     "base_uri": "https://localhost:8080/"
    },
    "executionInfo": {
     "elapsed": 20071,
     "status": "ok",
     "timestamp": 1620784852453,
     "user": {
      "displayName": "Felipe Jiménez",
      "photoUrl": "",
      "userId": "07174056181280808378"
     },
     "user_tz": 360
    },
    "id": "jNdcV7YZbzH7",
    "outputId": "1b3fa5fe-1d4a-4dfa-dbbd-eef85a9c4777"
   },
   "outputs": [],
   "source": [
    "# Installing spacy(for chatbot engine and nest_asyncio for jupyter capabilities)\n",
    "\n",
    "\"\"\"\n",
    "!python -m spacy download en\n",
    "!python -m spacy download es\n",
    "!pip install nest_asyncio==1.3.3\n",
    "\n",
    "\"\"\""
   ]
  },
  {
   "cell_type": "code",
   "execution_count": 1,
   "metadata": {
    "executionInfo": {
     "elapsed": 618,
     "status": "ok",
     "timestamp": 1620784888235,
     "user": {
      "displayName": "Felipe Jiménez",
      "photoUrl": "",
      "userId": "07174056181280808378"
     },
     "user_tz": 360
    },
    "id": "aOnVIp0pb2wo"
   },
   "outputs": [],
   "source": [
    "# Importing libraries\n",
    "\n",
    "import os\n",
    "import rasa\n",
    "import nest_asyncio\n",
    "\n",
    "nest_asyncio.apply()"
   ]
  },
  {
   "cell_type": "code",
   "execution_count": 2,
   "metadata": {
    "colab": {
     "base_uri": "https://localhost:8080/",
     "height": 35
    },
    "executionInfo": {
     "elapsed": 263,
     "status": "ok",
     "timestamp": 1620784890747,
     "user": {
      "displayName": "Felipe Jiménez",
      "photoUrl": "",
      "userId": "07174056181280808378"
     },
     "user_tz": 360
    },
    "id": "U-8nv78oWfPl",
    "outputId": "3855770b-9193-47a4-86ef-f390ecea9622"
   },
   "outputs": [
    {
     "data": {
      "text/plain": [
       "'/home/felipe/chatbot/project'"
      ]
     },
     "execution_count": 2,
     "metadata": {},
     "output_type": "execute_result"
    }
   ],
   "source": [
    "# Change working directory\n",
    "\n",
    "os.chdir(\"/home/felipe/chatbot/project\")\n",
    "os.getcwd()"
   ]
  },
  {
   "cell_type": "code",
   "execution_count": 3,
   "metadata": {
    "executionInfo": {
     "elapsed": 1442,
     "status": "ok",
     "timestamp": 1620784894217,
     "user": {
      "displayName": "Felipe Jiménez",
      "photoUrl": "",
      "userId": "07174056181280808378"
     },
     "user_tz": 360
    },
    "id": "1U9PTi8Fwm1w"
   },
   "outputs": [],
   "source": [
    "# Create project structure\n",
    "from rasa.cli.scaffold import create_initial_project\n",
    "\n",
    "project = \"testProject\"\n",
    "create_initial_project(project)"
   ]
  },
  {
   "cell_type": "code",
   "execution_count": null,
   "metadata": {
    "colab": {
     "base_uri": "https://localhost:8080/"
    },
    "executionInfo": {
     "elapsed": 380,
     "status": "ok",
     "timestamp": 1620784900280,
     "user": {
      "displayName": "Felipe Jiménez",
      "photoUrl": "",
      "userId": "07174056181280808378"
     },
     "user_tz": 360
    },
    "id": "ZB1lfqqrw0qh",
    "outputId": "bc846ec1-b90a-472c-d484-faaa26d3da27"
   },
   "outputs": [],
   "source": [
    "# move into project directory and show files\n",
    "os.chdir(project)\n",
    "print(os.listdir(\".\"))"
   ]
  },
  {
   "cell_type": "code",
   "execution_count": 8,
   "metadata": {
    "colab": {
     "base_uri": "https://localhost:8080/"
    },
    "executionInfo": {
     "elapsed": 266,
     "status": "ok",
     "timestamp": 1620784904064,
     "user": {
      "displayName": "Felipe Jiménez",
      "photoUrl": "",
      "userId": "07174056181280808378"
     },
     "user_tz": 360
    },
    "id": "_mmhAdu1zM2-",
    "outputId": "12d66480-666e-42b7-b79e-d5a78f27e6d9"
   },
   "outputs": [
    {
     "name": "stdout",
     "output_type": "stream",
     "text": [
      "config.yml data/ domain.yml models/\n"
     ]
    }
   ],
   "source": [
    "# Create variables to train inittial model\n",
    "config = \"config.yml\"\n",
    "training_files = \"data/\"\n",
    "domain = \"domain.yml\"\n",
    "output = \"models/\"\n",
    "print(config, training_files, domain, output)"
   ]
  },
  {
   "cell_type": "code",
   "execution_count": 7,
   "metadata": {
    "colab": {
     "base_uri": "https://localhost:8080/"
    },
    "executionInfo": {
     "elapsed": 68227,
     "status": "ok",
     "timestamp": 1620784985139,
     "user": {
      "displayName": "Felipe Jiménez",
      "photoUrl": "",
      "userId": "07174056181280808378"
     },
     "user_tz": 360
    },
    "id": "e2G9-uKRzhO9",
    "outputId": "8861d998-98d1-4ff5-dc53-3b89a920dd03"
   },
   "outputs": [
    {
     "name": "stdout",
     "output_type": "stream",
     "text": [
      "The configuration for policies and pipeline was chosen automatically. It was written into the config file at 'config.yml'.\n",
      "Nothing changed. You can use the old model stored at 'C:\\Users\\Felipe Jiménez\\OneDrive\\PythonProjects\\chatbot\\testProject\\models\\20210512-232334.tar.gz'.\n",
      "TrainingResult(model='models\\\\20210512-232334.tar.gz', code=0)\n"
     ]
    }
   ],
   "source": [
    "# Training the model(Try 3 times because it fails due to bug in rasa)\n",
    "model_path = rasa.train(domain, config, [training_files], output)\n",
    "print(model_path)"
   ]
  },
  {
   "cell_type": "code",
   "execution_count": 8,
   "metadata": {
    "executionInfo": {
     "elapsed": 571,
     "status": "ok",
     "timestamp": 1620785010899,
     "user": {
      "displayName": "Felipe Jiménez",
      "photoUrl": "",
      "userId": "07174056181280808378"
     },
     "user_tz": 360
    },
    "id": "3g0HhihXzoAS"
   },
   "outputs": [],
   "source": [
    "# Test the trained model\n",
    "\n",
    "from rasa.jupyter import chat\n",
    "from rasa.core.agent import Agent, create_agent\n",
    "\n",
    "endpoints = 'endpoints.yml'\n"
   ]
  },
  {
   "cell_type": "code",
   "execution_count": 22,
   "metadata": {
    "colab": {
     "base_uri": "https://localhost:8080/"
    },
    "executionInfo": {
     "elapsed": 17180,
     "status": "ok",
     "timestamp": 1620783828254,
     "user": {
      "displayName": "Felipe Jiménez",
      "photoUrl": "",
      "userId": "07174056181280808378"
     },
     "user_tz": 360
    },
    "id": "ehJRkSgk0BSH",
    "outputId": "28c507c7-5020-4ebf-f6fd-ce9739741180"
   },
   "outputs": [],
   "source": [
    "#chat(model_path,endpoints)\n"
   ]
  },
  {
   "cell_type": "markdown",
   "metadata": {
    "id": "Eegg8zJjRSNU"
   },
   "source": [
    "## 1 Create data for training "
   ]
  },
  {
   "cell_type": "code",
   "execution_count": 10,
   "metadata": {
    "colab": {
     "base_uri": "https://localhost:8080/"
    },
    "executionInfo": {
     "elapsed": 271,
     "status": "ok",
     "timestamp": 1620788234881,
     "user": {
      "displayName": "Felipe Jiménez",
      "photoUrl": "",
      "userId": "07174056181280808378"
     },
     "user_tz": 360
    },
    "id": "vZcZbMryRS7m",
    "outputId": "425008ca-2d74-481d-99a2-7388dce5c353"
   },
   "outputs": [
    {
     "name": "stdout",
     "output_type": "stream",
     "text": [
      "Overwriting data/nlu.yml\n"
     ]
    }
   ],
   "source": [
    "%%writefile data/nlu.yml\n",
    "## Modify the nlu.md\n",
    "\n",
    "version: \"2.0\"\n",
    "\n",
    "nlu:\n",
    "\n",
    "- intent: concepts_r\n",
    "  examples: |\n",
    "    - cuáles son los conceptos básicos en [R](lan)?\n",
    "    - cuáles son los elementos básicos en  [R](lang)?\n",
    "    - que conceptos debo conocer en [R](lang) como mínimo?\n",
    "    - Conceptos básicos de [R](lang) ? \n",
    "    - conceptos básicos\n",
    "    - ver conceptos mínimos\n",
    "    - conocer los conceptos básicos que debo saber\n",
    "    - cuales son los componentes basicos de [R](lang)\n",
    "\n",
    "- intent: basic_packages\n",
    "  examples: |\n",
    "    - para que sirven los [paquetes](concept) de [R](lang)?\n",
    "    - que es un [paquete](concept) ?\n",
    "    - y los [paquete](concept) que propósito tienen?\n",
    "    - en [R](lang), que son los [paquete](concept)\n",
    "    - aprender sobre [paquete](concept)\n",
    "    - [paquete](concept)\n",
    "    - ahora cuenteme sobre [paquete](concept)\n",
    "    - ok y que son los [paquete](concept) de [R](lan)  \n",
    "    - excelente! y finalmente los [paquete](concept)?\n",
    "    \n",
    "- intent: basic_functions\n",
    "  examples: |\n",
    "    - que es una [función](concept) de [R](lan)?\n",
    "    - que es una [función](concept) ?\n",
    "    - que hacen las [funciones](concept)?\n",
    "    - cuál es el propósito de las [funciones](concept)\n",
    "    - quiero saber de [funciones](concept)\n",
    "    - conocer sobre las [funciones](concept)\n",
    "    - que hace una [función](concept)\n",
    "    - mmm y las [funciones](concept) que son?\n",
    "    - ok ok y una [función](concept) que es?\n",
    "\n",
    "- intent: basic_console\n",
    "  examples: |\n",
    "    - que es la [consola](concept) de [R](lang)?\n",
    "    - que es una [consola](concept) ?\n",
    "    - Para que sirve la [consola](concept)?\n",
    "    - La [consola](concept) en [R](lang) que es?\n",
    "    - y la [consola](concept) que es?\n",
    "    - y la [consola](concept) de [R](lang) que es?\n",
    "    - y la [consola](concept)?\n",
    "    - Cual es la función de la [consola](concept)?\n",
    "    - gracias...y la [consola](concept)?\n",
    "    - muchas gracias!!! y que es la [consola](concept)?\n",
    "    \n",
    "- intent: basic_commands\n",
    "  examples: |\n",
    "    - que son [comandos](concept) en R?\n",
    "    - que es un [comando](concept) de R?\n",
    "    - que son [comandos](concept)?\n",
    "    - quiero saber sobre [comandos](concept)?\n",
    "    - Que se entiende por [comando](concept) en [R](lang)?\n",
    "\n",
    "- intent: basic_r\n",
    "  examples: |\n",
    "    - Que es [R](lang)?\n",
    "    - Que es el ambiente de [R](lang)?\n",
    "    - Cuáles son las funcionalidades de [R](lang)?\n",
    "    - quiero saber de [R](lang) básico\n",
    "    - repasar introducción a [R](lang)\n",
    "    - Puedes contarme sobre el ambiente de [R](lang)?\n",
    "\n",
    "- intent: greet\n",
    "  examples: |\n",
    "    - Hola\n",
    "    - Buenos dias\n",
    "    - Buenas\n",
    "    - Hola hola\n",
    "    - Buenas tardes\n",
    "    - Buenas noches\n",
    "    - que tal?\n",
    "    - como esta\n",
    "    - como te va\n",
    "    - que me dice?\n",
    "    - eso en todas?\n",
    "    - pura vida\n",
    "\n",
    "- intent: exit\n",
    "  examples: |\n",
    "    - adios\n",
    "    - chao\n",
    "    - nos vemos\n",
    "    - hasta luego\n",
    "    - estamos hablando\n",
    "    - muchas gracias, chao\n",
    "    - muchas gracias, adios\n",
    "    - muchas gracias, bye\n",
    "    - muchas gracias, hasta luego\n",
    "    - hasta la vista\n",
    "    - irme\n",
    "    - me voy\n",
    "    - salir\n",
    "    - pura vida gracias\n",
    "    - tuanis gracias\n",
    "\n",
    "- intent: affirm\n",
    "  examples: |\n",
    "    - si\n",
    "    - claro\n",
    "    - por supuesto\n",
    "    - exacto\n",
    "    - suena bien\n",
    "    - de hecho\n",
    "\n",
    "- intent: deny\n",
    "  examples: |\n",
    "    - no\n",
    "    - jamas\n",
    "    - nunca\n",
    "    - no lo creo\n",
    "    - no me gusta\n",
    "    - no realmente\n",
    "\n",
    "- intent: bot\n",
    "  examples: |\n",
    "    - eres un bot?\n",
    "    - eres un robot?\n",
    "    - eres humano?\n",
    "    - estoy hablando a un robot?\n",
    "    - estoy hablando a un humano?\n",
    "    - le estoy hablando a un robot, cierto?\n",
    "    - no le estoy hablando a un humano, cierto?\n",
    "\n",
    "- intent: review_class_one\n",
    "  examples: |\n",
    "    - quiero repasar la clase 1\n",
    "    - podemos repasar la clase 1\n",
    "    - tengo unas dudas de la clase 1\n",
    "    - necesito revisar los temas de la clase 1\n",
    "    - no me siento seguro de los temas de la clase 1\n",
    "    - requiero revisar la primera clase\n",
    "    - repasar la primera clase\n",
    "    - ver los temas de la primera clase\n",
    "\n",
    "- synonym: comando\n",
    "  examples: |\n",
    "    - comandos\n",
    "\n",
    "- synonym: función\n",
    "  examples: |\n",
    "    - funciones\n",
    "    - funcion\n",
    "\n",
    "- synonym: paquete\n",
    "  examples: |\n",
    "    - paquetes\n",
    "    - librería\n",
    "    - libreria\n",
    "    - librerias"
   ]
  },
  {
   "cell_type": "code",
   "execution_count": 11,
   "metadata": {
    "colab": {
     "base_uri": "https://localhost:8080/"
    },
    "executionInfo": {
     "elapsed": 319,
     "status": "ok",
     "timestamp": 1620788977119,
     "user": {
      "displayName": "Felipe Jiménez",
      "photoUrl": "",
      "userId": "07174056181280808378"
     },
     "user_tz": 360
    },
    "id": "LYisxnnTRfLv",
    "outputId": "4922b7cf-2a7a-4756-abbe-71ed641ba71c"
   },
   "outputs": [
    {
     "name": "stdout",
     "output_type": "stream",
     "text": [
      "Overwriting domain.yml\n"
     ]
    }
   ],
   "source": [
    "\n",
    "%%writefile domain.yml\n",
    "\n",
    "# Create the domain.yml structure\n",
    "# http://www.yamllint.com/ for yaml validation.\n",
    "version: \"2.0\"\n",
    "\n",
    "config:\n",
    "  store_entities_as_slots: true\n",
    "    \n",
    "intents:\n",
    "  - greet\n",
    "  - exit\n",
    "  - affirm\n",
    "  - deny\n",
    "  - bot\n",
    "  - review_class_one\n",
    "  - basic_r:\n",
    "      use_entities:\n",
    "      - lang\n",
    "  - concepts_r:\n",
    "      use_entities:\n",
    "      - lang\n",
    "  - basic_commands:\n",
    "      use_entities:\n",
    "      - concept\n",
    "  - basic_console:\n",
    "      use_entities:\n",
    "      - concept\n",
    "  - basic_functions:\n",
    "      use_entities:\n",
    "      - concept\n",
    "  - basic_packages:\n",
    "      use_entities:\n",
    "      - concept\n",
    "    \n",
    "entities:\n",
    "  - language\n",
    "  - concept \n",
    "    \n",
    "slots:\n",
    "  lang:\n",
    "    type: categorical\n",
    "    values:\n",
    "    - R\n",
    "    - python\n",
    "  concept:\n",
    "    type: categorical\n",
    "    values:\n",
    "    - comando\n",
    "    - consola\n",
    "    - funciones\n",
    "    - scripts\n",
    "    - objetos\n",
    "\n",
    "responses:\n",
    "  utter_greet:\n",
    "    - text: Hola todo bien! :smile:\\n\n",
    "            Que deseas hacer?\n",
    "  utter_exit:\n",
    "    - text: Chao!!\n",
    "        \n",
    "  utter_basic_packages:\n",
    "    - text: \"Las paquetes(también llamados librerías) son conjuntos de funciones creados usualmente por terceros.\\n\n",
    "             dentro de la comunidad para colaborar en un problema específico.\\n\n",
    "             -Existen paquetes en prácticamente todas las áreas científicas.\\n\n",
    "             -Eso si, la calidad es muy diversa, desde paquetes desarrollados por hobbystas\\n\n",
    "              hasta paquetes desarrollados por compañias.\\n\n",
    "             -Los paquetes se instalan mediante la función install_packages(<nombrePaquete>)\\n\n",
    "             -El principal repositorio donde se publican es el [CRAN](https://cran.r-project.org/)\\n\"\n",
    "             \n",
    "\n",
    "  utter_basic_functions:\n",
    "    - text: \"Las funciones son pequeños programas del lenguaje que reciben un input del usuario,\\n\n",
    "             ejecutan las instrucciones diseñadas por el programador y devuelven\\n\n",
    "             el output deseado basado en los datos ingresados.\\n\"\n",
    "\n",
    "  utter_basic_console:\n",
    "    - text: \"No, no es el Play Station.Aunque muchos se divierten ahí.La consola \\n\n",
    "             Es la interfaz entre el programador y el lenguaje que permite introducir los comandos para visualizar los resultados.\\n\"\n",
    "        \n",
    "  utter_basic_commands:\n",
    "    - text: \"Los comandos son las instrucciones que se le dan al lenguaje para que ejecute lo solicitado por el usuario\"    \n",
    "  utter_concepts_r:\n",
    "    - text: \"Los conceptos o elementos básicos que debes conocer en R son:\\n\n",
    "             -comandos\\n\n",
    "             -consola\\n\n",
    "             -Funciones\\n\n",
    "             -Paquetes\\n\n",
    "             -Scripts\\n\n",
    "             -Objetos\\n\"\n",
    "  utter_basicR:\n",
    "    - text: \"Claro, R es lo mejor...R es un suite que integra facilidades para:\\n\n",
    "          -la manipulación de datos= Manejo y almacenaje de datos.\\n\n",
    "          -Operaciones con datos= Cálculo de operaciones en vectores y matrices\\n\n",
    "          -Análisis de datos= Inmensa colección de herramientas de análisis\\n\n",
    "          -Facilidades gráficas= Poderoso motor de visualizaciones\\n\n",
    "          -Lenguaje de Programación= Para el análisis de datos y mucho más...\\n\"\n",
    "    \n",
    "      image: \"https://memegenerator.net/img/instances/66981493/welcome-to-r-statistics-i-will-be-your-guide.jpg\"\n",
    "  utter_classOne:\n",
    "    - text: \"Que tema de la clase 1 querés revisar? Como recordatorio vimos:\\n\n",
    "          -Que es el ambiente R?\\n\n",
    "          -Conceptos básicos de R\\n\n",
    "          -Paquetes en R\\n\n",
    "          -El IDE de Rstudio\\n\n",
    "          -R Studio Cloud\\n\"\n",
    "  utter_bot:\n",
    "    - text: \"Soy un robot :)\"\n",
    "\n",
    "  utter_cheer_up:\n",
    "  - text: \"Here is something to cheer you up\"\n",
    "    image: \"https://i.imgur.com/nGF1K8f.jpg\"\n",
    "        \n",
    "  utter_did_that_help:\n",
    "  - text: \"Did that help you?\"\n",
    "\n",
    "  utter_happy:\n",
    "  - text: \"Great, carry on!\"\n",
    "\n",
    "  utter_goodbye:\n",
    "  - text: \"Bye\"\n",
    "\n",
    "  utter_iamabot:\n",
    "  - text: \"I am a bot, powered by Rasa.\"\n",
    "    \n",
    "session_config:\n",
    "  session_expiration_time: 60\n",
    "  carry_over_slots_to_new_session: true"
   ]
  },
  {
   "cell_type": "code",
   "execution_count": 12,
   "metadata": {
    "colab": {
     "base_uri": "https://localhost:8080/"
    },
    "executionInfo": {
     "elapsed": 302,
     "status": "ok",
     "timestamp": 1620788982015,
     "user": {
      "displayName": "Felipe Jiménez",
      "photoUrl": "",
      "userId": "07174056181280808378"
     },
     "user_tz": 360
    },
    "id": "qbKaPuLsd8hE",
    "outputId": "5f4a615e-6aa2-4353-edd9-7ec4fad61a7e"
   },
   "outputs": [
    {
     "name": "stdout",
     "output_type": "stream",
     "text": [
      "Overwriting data/stories.yml\n"
     ]
    }
   ],
   "source": [
    "%%writefile data/stories.yml\n",
    "# Create the stories.md structure\n",
    "\n",
    "version: \"2.0\"\n",
    "\n",
    "stories:\n",
    "    \n",
    "- story: exit\n",
    "  steps:\n",
    "  - intent: exit\n",
    "  - action: utter_exit\n",
    "\n",
    "- story: class1 basic R\n",
    "  steps:\n",
    "  - intent: greet\n",
    "  - action: utter_greet\n",
    "  - intent: review_class_one\n",
    "  - action: utter_classOne\n",
    "  - intent: basic_r\n",
    "  - action: utter_basicR\n",
    "    \n",
    "- story: class1 commands\n",
    "  steps:\n",
    "  - intent: concepts_r\n",
    "  - action: utter_concepts_r\n",
    "  - intent: basic_commands\n",
    "    entities:\n",
    "    - concept: comando\n",
    "  - slot_was_set:\n",
    "    - concept: comando\n",
    "  - action: utter_basic_commands\n",
    "    \n",
    "    \n",
    "- story: class1 console\n",
    "  steps:\n",
    "  - intent: concepts_r\n",
    "  - action: utter_concepts_r\n",
    "  - intent: basic_console\n",
    "    entities:\n",
    "    - concept: consola\n",
    "  - slot_was_set:\n",
    "    - concept: consola\n",
    "  - action: utter_basic_console\n",
    "\n",
    "- story: class1 functions\n",
    "  steps:\n",
    "  - intent: concepts_r\n",
    "  - action: utter_concepts_r\n",
    "  - intent: basic_functions\n",
    "    entities:\n",
    "    - concept: función\n",
    "  - slot_was_set:\n",
    "    - concept: función\n",
    "  - action: utter_basic_functions\n",
    "\n",
    "- story: class1 packages\n",
    "  steps:\n",
    "  - intent: concepts_r\n",
    "  - action: utter_concepts_r\n",
    "  - intent: basic_packages\n",
    "    entities:\n",
    "    - concept: paquete\n",
    "  - slot_was_set:\n",
    "    - concept: paquete\n",
    "  - action: utter_basic_packages\n",
    "    \n",
    "- story: robot\n",
    "  steps:\n",
    "  - intent: bot\n",
    "  - action: utter_bot\n"
   ]
  },
  {
   "cell_type": "code",
   "execution_count": 13,
   "metadata": {
    "colab": {
     "base_uri": "https://localhost:8080/"
    },
    "executionInfo": {
     "elapsed": 51429,
     "status": "ok",
     "timestamp": 1620789037210,
     "user": {
      "displayName": "Felipe Jiménez",
      "photoUrl": "",
      "userId": "07174056181280808378"
     },
     "user_tz": 360
    },
    "id": "7w7tBCvkpsr8",
    "outputId": "fc29e51a-cb85-4bc6-8d20-28a3b29a2993"
   },
   "outputs": [
    {
     "name": "stdout",
     "output_type": "stream",
     "text": [
      "\u001b[94mThe configuration for policies and pipeline was chosen automatically. It was written into the config file at 'config.yml'.\u001b[0m\n"
     ]
    },
    {
     "name": "stderr",
     "output_type": "stream",
     "text": [
      "\u001b[93m/home/felipe/chatbot/lib/python3.8/site-packages/rasa/shared/utils/io.py:97: UserWarning: Issue found in 'data/rules.yml': \n",
      "Found intent 'goodbye' in stories which is not part of the domain.\n",
      "  More info at https://rasa.com/docs/rasa/stories\n",
      "\u001b[0m\u001b[93m/home/felipe/chatbot/lib/python3.8/site-packages/rasa/shared/utils/io.py:97: UserWarning: Issue found in 'data/rules.yml': \n",
      "Found intent 'bot_challenge' in stories which is not part of the domain.\n",
      "  More info at https://rasa.com/docs/rasa/stories\n",
      "\u001b[0m"
     ]
    },
    {
     "name": "stdout",
     "output_type": "stream",
     "text": [
      "\u001b[94mTraining NLU model...\u001b[0m\n"
     ]
    },
    {
     "name": "stderr",
     "output_type": "stream",
     "text": [
      "\u001b[93m/home/felipe/chatbot/lib/python3.8/site-packages/rasa/utils/train_utils.py:561: UserWarning: model_confidence is set to `softmax`. It is recommended to try using `model_confidence=linear_norm` to make it easier to tune fallback thresholds.\n",
      "  rasa.shared.utils.io.raise_warning(\n",
      "Epochs: 100%|██████████| 100/100 [01:03<00:00,  1.57it/s, t_loss=1.94, i_acc=1, e_f1=0.943]    \n"
     ]
    },
    {
     "name": "stdout",
     "output_type": "stream",
     "text": [
      "\u001b[94mNLU model training completed.\u001b[0m\n",
      "\u001b[94mTraining Core model...\u001b[0m\n"
     ]
    },
    {
     "name": "stderr",
     "output_type": "stream",
     "text": [
      "Processed story blocks: 100%|██████████| 7/7 [00:00<00:00, 525.23it/s, # trackers=1]\n",
      "Processed story blocks: 100%|██████████| 7/7 [00:00<00:00, 164.75it/s, # trackers=7]\n",
      "Processed story blocks: 100%|██████████| 7/7 [00:00<00:00, 31.92it/s, # trackers=50]\n",
      "Processed story blocks: 100%|██████████| 7/7 [00:00<00:00, 26.56it/s, # trackers=50]\n",
      "Processed rules: 100%|██████████| 2/2 [00:00<00:00, 354.44it/s, # trackers=1]\n",
      "Processed trackers: 100%|██████████| 7/7 [00:00<00:00, 161.76it/s, # actions=21]\n",
      "Processed actions: 21it [00:00, 662.17it/s, # examples=21]\n",
      "Processed trackers: 100%|██████████| 507/507 [00:09<00:00, 53.32it/s, # actions=459]\n",
      "Epochs: 100%|██████████| 100/100 [00:43<00:00,  2.31it/s, t_loss=0.585, loss=0.356, acc=1]   \n",
      "Processed trackers: 100%|██████████| 2/2 [00:00<00:00, 409.82it/s, # actions=5]\n",
      "Processed actions: 5it [00:00, 1663.22it/s, # examples=4]\n",
      "Processed trackers: 100%|██████████| 7/7 [00:00<00:00, 221.73it/s, # actions=21]\n",
      "Processed trackers: 100%|██████████| 2/2 [00:00<00:00, 811.83it/s]\n",
      "Processed trackers: 100%|██████████| 9/9 [00:00<00:00, 835.13it/s]\n"
     ]
    },
    {
     "name": "stdout",
     "output_type": "stream",
     "text": [
      "\u001b[94mCore model training completed.\u001b[0m\n",
      "\u001b[92mYour Rasa model is trained and saved at '/home/felipe/chatbot/project/models/20210516-130804.tar.gz'.\u001b[0m\n",
      "TrainingResult(model='models/20210516-130804.tar.gz', code=0)\n"
     ]
    }
   ],
   "source": [
    "# Retrain model with new data\n",
    "\n",
    "model_path =  rasa.train(domain, config, [training_files], output)\n",
    "print(model_path)"
   ]
  },
  {
   "cell_type": "code",
   "execution_count": 20,
   "metadata": {
    "colab": {
     "base_uri": "https://localhost:8080/"
    },
    "id": "c7luQU9kpz6Y",
    "outputId": "2e3d673c-5c0b-493c-b77d-ed894242a915"
   },
   "outputs": [],
   "source": [
    "endpoints = \"endpoints.yml\"\n",
    "#chat(model_path, endpoints)"
   ]
  },
  {
   "cell_type": "code",
   "execution_count": 40,
   "metadata": {
    "colab": {
     "base_uri": "https://localhost:8080/"
    },
    "executionInfo": {
     "elapsed": 279,
     "status": "ok",
     "timestamp": 1620785235273,
     "user": {
      "displayName": "Felipe Jiménez",
      "photoUrl": "",
      "userId": "07174056181280808378"
     },
     "user_tz": 360
    },
    "id": "NQEKEj9RqBv7",
    "outputId": "1d7ff155-4d8b-46ab-eb31-84d1e11b0194"
   },
   "outputs": [
    {
     "ename": "ModuleNotFoundError",
     "evalue": "No module named 'rasa.data'",
     "output_type": "error",
     "traceback": [
      "\u001b[1;31m---------------------------------------------------------------------------\u001b[0m",
      "\u001b[1;31mModuleNotFoundError\u001b[0m                       Traceback (most recent call last)",
      "\u001b[1;32m<ipython-input-40-3a447585e60d>\u001b[0m in \u001b[0;36m<module>\u001b[1;34m\u001b[0m\n\u001b[0;32m      1\u001b[0m \u001b[1;31m# Evaluate model performance\u001b[0m\u001b[1;33m\u001b[0m\u001b[1;33m\u001b[0m\u001b[1;33m\u001b[0m\u001b[0m\n\u001b[0;32m      2\u001b[0m \u001b[1;33m\u001b[0m\u001b[0m\n\u001b[1;32m----> 3\u001b[1;33m \u001b[1;32mimport\u001b[0m \u001b[0mrasa\u001b[0m\u001b[1;33m.\u001b[0m\u001b[0mdata\u001b[0m \u001b[1;32mas\u001b[0m \u001b[0mdata\u001b[0m\u001b[1;33m\u001b[0m\u001b[1;33m\u001b[0m\u001b[0m\n\u001b[0m\u001b[0;32m      4\u001b[0m \u001b[1;33m\u001b[0m\u001b[0m\n\u001b[0;32m      5\u001b[0m \u001b[0mstories_directory\u001b[0m\u001b[1;33m,\u001b[0m \u001b[0mnlu_data_directory\u001b[0m \u001b[1;33m=\u001b[0m \u001b[0mdata\u001b[0m\u001b[1;33m.\u001b[0m\u001b[0mget_core_nlu_directories\u001b[0m\u001b[1;33m(\u001b[0m\u001b[0mtraining_files\u001b[0m\u001b[1;33m)\u001b[0m\u001b[1;33m\u001b[0m\u001b[1;33m\u001b[0m\u001b[0m\n",
      "\u001b[1;31mModuleNotFoundError\u001b[0m: No module named 'rasa.data'"
     ]
    }
   ],
   "source": [
    "# Evaluate model performance\n",
    "\n",
    "import rasa.data as data\n",
    "\n",
    "stories_directory, nlu_data_directory = data.get_core_nlu_directories(training_files)\n",
    "\n",
    "print(stories_directory, nlu_data_directory)"
   ]
  },
  {
   "cell_type": "code",
   "execution_count": 18,
   "metadata": {
    "colab": {
     "base_uri": "https://localhost:8080/",
     "height": 1000
    },
    "executionInfo": {
     "elapsed": 8851,
     "status": "ok",
     "timestamp": 1620785248423,
     "user": {
      "displayName": "Felipe Jiménez",
      "photoUrl": "",
      "userId": "07174056181280808378"
     },
     "user_tz": 360
    },
    "id": "oa0CJLrAFGXt",
    "outputId": "27a25429-4c1a-43c7-90e9-40a6464fb36e"
   },
   "outputs": [
    {
     "name": "stdout",
     "output_type": "stream",
     "text": [
      "WARNING:tensorflow:AutoGraph could not transform <bound method TED.batch_predict of <rasa.core.policies.ted_policy.TED object at 0x7fef03c13d10>> and will run it as-is.\n",
      "Please report this to the TensorFlow team. When filing the bug, set the verbosity to 10 (on Linux, `export AUTOGRAPH_VERBOSITY=10`) and attach the full output.\n",
      "Cause: module 'gast' has no attribute 'Num'\n",
      "WARNING: AutoGraph could not transform <bound method TED.batch_predict of <rasa.core.policies.ted_policy.TED object at 0x7fef03c13d10>> and will run it as-is.\n",
      "Please report this to the TensorFlow team. When filing the bug, set the verbosity to 10 (on Linux, `export AUTOGRAPH_VERBOSITY=10`) and attach the full output.\n",
      "Cause: module 'gast' has no attribute 'Num'\n",
      "WARNING:tensorflow:AutoGraph could not transform <bound method Ffnn.call of <rasa.utils.tensorflow.layers.Ffnn object at 0x7feefc33d7d0>> and will run it as-is.\n",
      "Please report this to the TensorFlow team. When filing the bug, set the verbosity to 10 (on Linux, `export AUTOGRAPH_VERBOSITY=10`) and attach the full output.\n",
      "Cause: module 'gast' has no attribute 'Num'\n",
      "WARNING: AutoGraph could not transform <bound method Ffnn.call of <rasa.utils.tensorflow.layers.Ffnn object at 0x7feefc33d7d0>> and will run it as-is.\n",
      "Please report this to the TensorFlow team. When filing the bug, set the verbosity to 10 (on Linux, `export AUTOGRAPH_VERBOSITY=10`) and attach the full output.\n",
      "Cause: module 'gast' has no attribute 'Num'\n",
      "WARNING:tensorflow:AutoGraph could not transform <bound method TransformerEncoder.call of <rasa.utils.tensorflow.transformer.TransformerEncoder object at 0x7feefad31cd0>> and will run it as-is.\n",
      "Please report this to the TensorFlow team. When filing the bug, set the verbosity to 10 (on Linux, `export AUTOGRAPH_VERBOSITY=10`) and attach the full output.\n",
      "Cause: module 'gast' has no attribute 'Num'\n",
      "WARNING: AutoGraph could not transform <bound method TransformerEncoder.call of <rasa.utils.tensorflow.transformer.TransformerEncoder object at 0x7feefad31cd0>> and will run it as-is.\n",
      "Please report this to the TensorFlow team. When filing the bug, set the verbosity to 10 (on Linux, `export AUTOGRAPH_VERBOSITY=10`) and attach the full output.\n",
      "Cause: module 'gast' has no attribute 'Num'\n",
      "WARNING:tensorflow:AutoGraph could not transform <bound method DenseWithSparseWeights.call of <rasa.utils.tensorflow.layers.DenseWithSparseWeights object at 0x7fef03e1fd10>> and will run it as-is.\n",
      "Please report this to the TensorFlow team. When filing the bug, set the verbosity to 10 (on Linux, `export AUTOGRAPH_VERBOSITY=10`) and attach the full output.\n",
      "Cause: Bad argument number for Name: 3, expecting 4\n",
      "WARNING: AutoGraph could not transform <bound method DenseWithSparseWeights.call of <rasa.utils.tensorflow.layers.DenseWithSparseWeights object at 0x7fef03e1fd10>> and will run it as-is.\n",
      "Please report this to the TensorFlow team. When filing the bug, set the verbosity to 10 (on Linux, `export AUTOGRAPH_VERBOSITY=10`) and attach the full output.\n",
      "Cause: Bad argument number for Name: 3, expecting 4\n",
      "WARNING:tensorflow:AutoGraph could not transform <bound method TransformerEncoderLayer.call of <rasa.utils.tensorflow.transformer.TransformerEncoderLayer object at 0x7feefc532790>> and will run it as-is.\n",
      "Please report this to the TensorFlow team. When filing the bug, set the verbosity to 10 (on Linux, `export AUTOGRAPH_VERBOSITY=10`) and attach the full output.\n",
      "Cause: module 'gast' has no attribute 'Num'\n",
      "WARNING: AutoGraph could not transform <bound method TransformerEncoderLayer.call of <rasa.utils.tensorflow.transformer.TransformerEncoderLayer object at 0x7feefc532790>> and will run it as-is.\n",
      "Please report this to the TensorFlow team. When filing the bug, set the verbosity to 10 (on Linux, `export AUTOGRAPH_VERBOSITY=10`) and attach the full output.\n",
      "Cause: module 'gast' has no attribute 'Num'\n",
      "WARNING:tensorflow:AutoGraph could not transform <bound method MultiHeadAttention.call of <rasa.utils.tensorflow.transformer.MultiHeadAttention object at 0x7feefc6a6c10>> and will run it as-is.\n",
      "Please report this to the TensorFlow team. When filing the bug, set the verbosity to 10 (on Linux, `export AUTOGRAPH_VERBOSITY=10`) and attach the full output.\n",
      "Cause: module 'gast' has no attribute 'Num'\n",
      "WARNING: AutoGraph could not transform <bound method MultiHeadAttention.call of <rasa.utils.tensorflow.transformer.MultiHeadAttention object at 0x7feefc6a6c10>> and will run it as-is.\n",
      "Please report this to the TensorFlow team. When filing the bug, set the verbosity to 10 (on Linux, `export AUTOGRAPH_VERBOSITY=10`) and attach the full output.\n",
      "Cause: module 'gast' has no attribute 'Num'\n",
      "WARNING:tensorflow:AutoGraph could not transform <bound method DenseWithSparseWeights.call of <rasa.utils.tensorflow.layers.DenseWithSparseWeights object at 0x7fef03bf25d0>> and will run it as-is.\n",
      "Please report this to the TensorFlow team. When filing the bug, set the verbosity to 10 (on Linux, `export AUTOGRAPH_VERBOSITY=10`) and attach the full output.\n",
      "Cause: Bad argument number for Name: 3, expecting 4\n",
      "WARNING: AutoGraph could not transform <bound method DenseWithSparseWeights.call of <rasa.utils.tensorflow.layers.DenseWithSparseWeights object at 0x7fef03bf25d0>> and will run it as-is.\n",
      "Please report this to the TensorFlow team. When filing the bug, set the verbosity to 10 (on Linux, `export AUTOGRAPH_VERBOSITY=10`) and attach the full output.\n",
      "Cause: Bad argument number for Name: 3, expecting 4\n",
      "WARNING:tensorflow:AutoGraph could not transform <bound method DenseWithSparseWeights.call of <rasa.utils.tensorflow.layers.DenseWithSparseWeights object at 0x7feefc6a6a90>> and will run it as-is.\n",
      "Please report this to the TensorFlow team. When filing the bug, set the verbosity to 10 (on Linux, `export AUTOGRAPH_VERBOSITY=10`) and attach the full output.\n",
      "Cause: Bad argument number for Name: 3, expecting 4\n",
      "WARNING: AutoGraph could not transform <bound method DenseWithSparseWeights.call of <rasa.utils.tensorflow.layers.DenseWithSparseWeights object at 0x7feefc6a6a90>> and will run it as-is.\n",
      "Please report this to the TensorFlow team. When filing the bug, set the verbosity to 10 (on Linux, `export AUTOGRAPH_VERBOSITY=10`) and attach the full output.\n",
      "Cause: Bad argument number for Name: 3, expecting 4\n",
      "WARNING:tensorflow:AutoGraph could not transform <bound method DenseWithSparseWeights.call of <rasa.utils.tensorflow.layers.DenseWithSparseWeights object at 0x7feefc6a6550>> and will run it as-is.\n",
      "Please report this to the TensorFlow team. When filing the bug, set the verbosity to 10 (on Linux, `export AUTOGRAPH_VERBOSITY=10`) and attach the full output.\n",
      "Cause: Bad argument number for Name: 3, expecting 4\n",
      "WARNING: AutoGraph could not transform <bound method DenseWithSparseWeights.call of <rasa.utils.tensorflow.layers.DenseWithSparseWeights object at 0x7feefc6a6550>> and will run it as-is.\n",
      "Please report this to the TensorFlow team. When filing the bug, set the verbosity to 10 (on Linux, `export AUTOGRAPH_VERBOSITY=10`) and attach the full output.\n",
      "Cause: Bad argument number for Name: 3, expecting 4\n",
      "WARNING:tensorflow:AutoGraph could not transform <bound method DenseWithSparseWeights.call of <rasa.utils.tensorflow.layers.DenseWithSparseWeights object at 0x7feefc53c950>> and will run it as-is.\n",
      "Please report this to the TensorFlow team. When filing the bug, set the verbosity to 10 (on Linux, `export AUTOGRAPH_VERBOSITY=10`) and attach the full output.\n",
      "Cause: Bad argument number for Name: 3, expecting 4\n",
      "WARNING: AutoGraph could not transform <bound method DenseWithSparseWeights.call of <rasa.utils.tensorflow.layers.DenseWithSparseWeights object at 0x7feefc53c950>> and will run it as-is.\n",
      "Please report this to the TensorFlow team. When filing the bug, set the verbosity to 10 (on Linux, `export AUTOGRAPH_VERBOSITY=10`) and attach the full output.\n",
      "Cause: Bad argument number for Name: 3, expecting 4\n",
      "WARNING:tensorflow:AutoGraph could not transform <bound method DenseWithSparseWeights.call of <rasa.utils.tensorflow.layers.DenseWithSparseWeights object at 0x7feefc53cbd0>> and will run it as-is.\n",
      "Please report this to the TensorFlow team. When filing the bug, set the verbosity to 10 (on Linux, `export AUTOGRAPH_VERBOSITY=10`) and attach the full output.\n",
      "Cause: Bad argument number for Name: 3, expecting 4\n",
      "WARNING: AutoGraph could not transform <bound method DenseWithSparseWeights.call of <rasa.utils.tensorflow.layers.DenseWithSparseWeights object at 0x7feefc53cbd0>> and will run it as-is.\n",
      "Please report this to the TensorFlow team. When filing the bug, set the verbosity to 10 (on Linux, `export AUTOGRAPH_VERBOSITY=10`) and attach the full output.\n",
      "Cause: Bad argument number for Name: 3, expecting 4\n",
      "WARNING:tensorflow:AutoGraph could not transform <bound method DenseWithSparseWeights.call of <rasa.utils.tensorflow.layers.DenseWithSparseWeights object at 0x7feefc35ccd0>> and will run it as-is.\n",
      "Please report this to the TensorFlow team. When filing the bug, set the verbosity to 10 (on Linux, `export AUTOGRAPH_VERBOSITY=10`) and attach the full output.\n",
      "Cause: Bad argument number for Name: 3, expecting 4\n",
      "WARNING: AutoGraph could not transform <bound method DenseWithSparseWeights.call of <rasa.utils.tensorflow.layers.DenseWithSparseWeights object at 0x7feefc35ccd0>> and will run it as-is.\n",
      "Please report this to the TensorFlow team. When filing the bug, set the verbosity to 10 (on Linux, `export AUTOGRAPH_VERBOSITY=10`) and attach the full output.\n",
      "Cause: Bad argument number for Name: 3, expecting 4\n",
      "WARNING:tensorflow:AutoGraph could not transform <bound method Embed.call of <rasa.utils.tensorflow.layers.Embed object at 0x7fef03e1f750>> and will run it as-is.\n",
      "Please report this to the TensorFlow team. When filing the bug, set the verbosity to 10 (on Linux, `export AUTOGRAPH_VERBOSITY=10`) and attach the full output.\n",
      "Cause: Bad argument number for Name: 3, expecting 4\n",
      "WARNING: AutoGraph could not transform <bound method Embed.call of <rasa.utils.tensorflow.layers.Embed object at 0x7fef03e1f750>> and will run it as-is.\n",
      "Please report this to the TensorFlow team. When filing the bug, set the verbosity to 10 (on Linux, `export AUTOGRAPH_VERBOSITY=10`) and attach the full output.\n",
      "Cause: Bad argument number for Name: 3, expecting 4\n"
     ]
    },
    {
     "name": "stderr",
     "output_type": "stream",
     "text": [
      "Processed Story Blocks: 100%|██████████| 3/3 [00:00<00:00, 460.85it/s, # trackers=1]\n",
      "100%|██████████| 3/3 [00:00<00:00, 86.11it/s]\n"
     ]
    },
    {
     "name": "stdout",
     "output_type": "stream",
     "text": [
      "WARNING:tensorflow:AutoGraph could not transform <bound method FBetaScore.update_state of <tensorflow_addons.metrics.f_scores.F1Score object at 0x7fef03bc7090>> and will run it as-is.\n",
      "Please report this to the TensorFlow team. When filing the bug, set the verbosity to 10 (on Linux, `export AUTOGRAPH_VERBOSITY=10`) and attach the full output.\n",
      "Cause: Bad argument number for Name: 3, expecting 4\n",
      "WARNING: AutoGraph could not transform <bound method FBetaScore.update_state of <tensorflow_addons.metrics.f_scores.F1Score object at 0x7fef03bc7090>> and will run it as-is.\n",
      "Please report this to the TensorFlow team. When filing the bug, set the verbosity to 10 (on Linux, `export AUTOGRAPH_VERBOSITY=10`) and attach the full output.\n",
      "Cause: Bad argument number for Name: 3, expecting 4\n",
      "WARNING:tensorflow:AutoGraph could not transform <bound method DIET.batch_predict of <rasa.nlu.classifiers.diet_classifier.DIET object at 0x7feefa5fa490>> and will run it as-is.\n",
      "Please report this to the TensorFlow team. When filing the bug, set the verbosity to 10 (on Linux, `export AUTOGRAPH_VERBOSITY=10`) and attach the full output.\n",
      "Cause: module 'gast' has no attribute 'Num'\n",
      "WARNING: AutoGraph could not transform <bound method DIET.batch_predict of <rasa.nlu.classifiers.diet_classifier.DIET object at 0x7feefa5fa490>> and will run it as-is.\n",
      "Please report this to the TensorFlow team. When filing the bug, set the verbosity to 10 (on Linux, `export AUTOGRAPH_VERBOSITY=10`) and attach the full output.\n",
      "Cause: module 'gast' has no attribute 'Num'\n",
      "WARNING:tensorflow:AutoGraph could not transform <bound method DenseForSparse.call of <rasa.utils.tensorflow.layers.DenseForSparse object at 0x7feefc792310>> and will run it as-is.\n",
      "Please report this to the TensorFlow team. When filing the bug, set the verbosity to 10 (on Linux, `export AUTOGRAPH_VERBOSITY=10`) and attach the full output.\n",
      "Cause: module 'gast' has no attribute 'Num'\n",
      "WARNING: AutoGraph could not transform <bound method DenseForSparse.call of <rasa.utils.tensorflow.layers.DenseForSparse object at 0x7feefc792310>> and will run it as-is.\n",
      "Please report this to the TensorFlow team. When filing the bug, set the verbosity to 10 (on Linux, `export AUTOGRAPH_VERBOSITY=10`) and attach the full output.\n",
      "Cause: module 'gast' has no attribute 'Num'\n",
      "WARNING:tensorflow:AutoGraph could not transform <bound method Ffnn.call of <rasa.utils.tensorflow.layers.Ffnn object at 0x7feefc792550>> and will run it as-is.\n",
      "Please report this to the TensorFlow team. When filing the bug, set the verbosity to 10 (on Linux, `export AUTOGRAPH_VERBOSITY=10`) and attach the full output.\n",
      "Cause: module 'gast' has no attribute 'Num'\n",
      "WARNING: AutoGraph could not transform <bound method Ffnn.call of <rasa.utils.tensorflow.layers.Ffnn object at 0x7feefc792550>> and will run it as-is.\n",
      "Please report this to the TensorFlow team. When filing the bug, set the verbosity to 10 (on Linux, `export AUTOGRAPH_VERBOSITY=10`) and attach the full output.\n",
      "Cause: module 'gast' has no attribute 'Num'\n",
      "WARNING:tensorflow:AutoGraph could not transform <bound method TransformerEncoder.call of <rasa.utils.tensorflow.transformer.TransformerEncoder object at 0x7feefacdaf90>> and will run it as-is.\n",
      "Please report this to the TensorFlow team. When filing the bug, set the verbosity to 10 (on Linux, `export AUTOGRAPH_VERBOSITY=10`) and attach the full output.\n",
      "Cause: module 'gast' has no attribute 'Num'\n",
      "WARNING: AutoGraph could not transform <bound method TransformerEncoder.call of <rasa.utils.tensorflow.transformer.TransformerEncoder object at 0x7feefacdaf90>> and will run it as-is.\n",
      "Please report this to the TensorFlow team. When filing the bug, set the verbosity to 10 (on Linux, `export AUTOGRAPH_VERBOSITY=10`) and attach the full output.\n",
      "Cause: module 'gast' has no attribute 'Num'\n",
      "WARNING:tensorflow:AutoGraph could not transform <bound method DenseWithSparseWeights.call of <rasa.utils.tensorflow.layers.DenseWithSparseWeights object at 0x7feefacdab50>> and will run it as-is.\n",
      "Please report this to the TensorFlow team. When filing the bug, set the verbosity to 10 (on Linux, `export AUTOGRAPH_VERBOSITY=10`) and attach the full output.\n",
      "Cause: Bad argument number for Name: 3, expecting 4\n",
      "WARNING: AutoGraph could not transform <bound method DenseWithSparseWeights.call of <rasa.utils.tensorflow.layers.DenseWithSparseWeights object at 0x7feefacdab50>> and will run it as-is.\n",
      "Please report this to the TensorFlow team. When filing the bug, set the verbosity to 10 (on Linux, `export AUTOGRAPH_VERBOSITY=10`) and attach the full output.\n",
      "Cause: Bad argument number for Name: 3, expecting 4\n",
      "WARNING:tensorflow:AutoGraph could not transform <bound method TransformerEncoderLayer.call of <rasa.utils.tensorflow.transformer.TransformerEncoderLayer object at 0x7feefa557d90>> and will run it as-is.\n",
      "Please report this to the TensorFlow team. When filing the bug, set the verbosity to 10 (on Linux, `export AUTOGRAPH_VERBOSITY=10`) and attach the full output.\n",
      "Cause: module 'gast' has no attribute 'Num'\n",
      "WARNING: AutoGraph could not transform <bound method TransformerEncoderLayer.call of <rasa.utils.tensorflow.transformer.TransformerEncoderLayer object at 0x7feefa557d90>> and will run it as-is.\n",
      "Please report this to the TensorFlow team. When filing the bug, set the verbosity to 10 (on Linux, `export AUTOGRAPH_VERBOSITY=10`) and attach the full output.\n",
      "Cause: module 'gast' has no attribute 'Num'\n",
      "WARNING:tensorflow:AutoGraph could not transform <bound method MultiHeadAttention.call of <rasa.utils.tensorflow.transformer.MultiHeadAttention object at 0x7feefabf71d0>> and will run it as-is.\n",
      "Please report this to the TensorFlow team. When filing the bug, set the verbosity to 10 (on Linux, `export AUTOGRAPH_VERBOSITY=10`) and attach the full output.\n",
      "Cause: module 'gast' has no attribute 'Num'\n",
      "WARNING: AutoGraph could not transform <bound method MultiHeadAttention.call of <rasa.utils.tensorflow.transformer.MultiHeadAttention object at 0x7feefabf71d0>> and will run it as-is.\n",
      "Please report this to the TensorFlow team. When filing the bug, set the verbosity to 10 (on Linux, `export AUTOGRAPH_VERBOSITY=10`) and attach the full output.\n",
      "Cause: module 'gast' has no attribute 'Num'\n",
      "WARNING:tensorflow:AutoGraph could not transform <bound method DenseWithSparseWeights.call of <rasa.utils.tensorflow.layers.DenseWithSparseWeights object at 0x7fef03986dd0>> and will run it as-is.\n",
      "Please report this to the TensorFlow team. When filing the bug, set the verbosity to 10 (on Linux, `export AUTOGRAPH_VERBOSITY=10`) and attach the full output.\n",
      "Cause: Bad argument number for Name: 3, expecting 4\n",
      "WARNING: AutoGraph could not transform <bound method DenseWithSparseWeights.call of <rasa.utils.tensorflow.layers.DenseWithSparseWeights object at 0x7fef03986dd0>> and will run it as-is.\n",
      "Please report this to the TensorFlow team. When filing the bug, set the verbosity to 10 (on Linux, `export AUTOGRAPH_VERBOSITY=10`) and attach the full output.\n",
      "Cause: Bad argument number for Name: 3, expecting 4\n",
      "WARNING:tensorflow:AutoGraph could not transform <bound method DenseWithSparseWeights.call of <rasa.utils.tensorflow.layers.DenseWithSparseWeights object at 0x7feefc5f1150>> and will run it as-is.\n",
      "Please report this to the TensorFlow team. When filing the bug, set the verbosity to 10 (on Linux, `export AUTOGRAPH_VERBOSITY=10`) and attach the full output.\n",
      "Cause: Bad argument number for Name: 3, expecting 4\n",
      "WARNING: AutoGraph could not transform <bound method DenseWithSparseWeights.call of <rasa.utils.tensorflow.layers.DenseWithSparseWeights object at 0x7feefc5f1150>> and will run it as-is.\n",
      "Please report this to the TensorFlow team. When filing the bug, set the verbosity to 10 (on Linux, `export AUTOGRAPH_VERBOSITY=10`) and attach the full output.\n",
      "Cause: Bad argument number for Name: 3, expecting 4\n",
      "WARNING:tensorflow:AutoGraph could not transform <bound method DenseWithSparseWeights.call of <rasa.utils.tensorflow.layers.DenseWithSparseWeights object at 0x7feefc5f1050>> and will run it as-is.\n",
      "Please report this to the TensorFlow team. When filing the bug, set the verbosity to 10 (on Linux, `export AUTOGRAPH_VERBOSITY=10`) and attach the full output.\n",
      "Cause: Bad argument number for Name: 3, expecting 4\n",
      "WARNING: AutoGraph could not transform <bound method DenseWithSparseWeights.call of <rasa.utils.tensorflow.layers.DenseWithSparseWeights object at 0x7feefc5f1050>> and will run it as-is.\n",
      "Please report this to the TensorFlow team. When filing the bug, set the verbosity to 10 (on Linux, `export AUTOGRAPH_VERBOSITY=10`) and attach the full output.\n",
      "Cause: Bad argument number for Name: 3, expecting 4\n",
      "WARNING:tensorflow:AutoGraph could not transform <bound method DenseWithSparseWeights.call of <rasa.utils.tensorflow.layers.DenseWithSparseWeights object at 0x7feefa5a0310>> and will run it as-is.\n",
      "Please report this to the TensorFlow team. When filing the bug, set the verbosity to 10 (on Linux, `export AUTOGRAPH_VERBOSITY=10`) and attach the full output.\n",
      "Cause: Bad argument number for Name: 3, expecting 4\n",
      "WARNING: AutoGraph could not transform <bound method DenseWithSparseWeights.call of <rasa.utils.tensorflow.layers.DenseWithSparseWeights object at 0x7feefa5a0310>> and will run it as-is.\n",
      "Please report this to the TensorFlow team. When filing the bug, set the verbosity to 10 (on Linux, `export AUTOGRAPH_VERBOSITY=10`) and attach the full output.\n",
      "Cause: Bad argument number for Name: 3, expecting 4\n",
      "WARNING:tensorflow:AutoGraph could not transform <bound method DenseWithSparseWeights.call of <rasa.utils.tensorflow.layers.DenseWithSparseWeights object at 0x7feef9f55450>> and will run it as-is.\n",
      "Please report this to the TensorFlow team. When filing the bug, set the verbosity to 10 (on Linux, `export AUTOGRAPH_VERBOSITY=10`) and attach the full output.\n",
      "Cause: Bad argument number for Name: 3, expecting 4\n",
      "WARNING: AutoGraph could not transform <bound method DenseWithSparseWeights.call of <rasa.utils.tensorflow.layers.DenseWithSparseWeights object at 0x7feef9f55450>> and will run it as-is.\n",
      "Please report this to the TensorFlow team. When filing the bug, set the verbosity to 10 (on Linux, `export AUTOGRAPH_VERBOSITY=10`) and attach the full output.\n",
      "Cause: Bad argument number for Name: 3, expecting 4\n",
      "WARNING:tensorflow:AutoGraph could not transform <bound method DenseWithSparseWeights.call of <rasa.utils.tensorflow.layers.DenseWithSparseWeights object at 0x7fef03943690>> and will run it as-is.\n",
      "Please report this to the TensorFlow team. When filing the bug, set the verbosity to 10 (on Linux, `export AUTOGRAPH_VERBOSITY=10`) and attach the full output.\n",
      "Cause: Bad argument number for Name: 3, expecting 4\n",
      "WARNING: AutoGraph could not transform <bound method DenseWithSparseWeights.call of <rasa.utils.tensorflow.layers.DenseWithSparseWeights object at 0x7fef03943690>> and will run it as-is.\n",
      "Please report this to the TensorFlow team. When filing the bug, set the verbosity to 10 (on Linux, `export AUTOGRAPH_VERBOSITY=10`) and attach the full output.\n",
      "Cause: Bad argument number for Name: 3, expecting 4\n",
      "WARNING:tensorflow:AutoGraph could not transform <bound method TransformerEncoderLayer.call of <rasa.utils.tensorflow.transformer.TransformerEncoderLayer object at 0x7fef03943910>> and will run it as-is.\n",
      "Please report this to the TensorFlow team. When filing the bug, set the verbosity to 10 (on Linux, `export AUTOGRAPH_VERBOSITY=10`) and attach the full output.\n",
      "Cause: module 'gast' has no attribute 'Num'\n",
      "WARNING: AutoGraph could not transform <bound method TransformerEncoderLayer.call of <rasa.utils.tensorflow.transformer.TransformerEncoderLayer object at 0x7fef03943910>> and will run it as-is.\n",
      "Please report this to the TensorFlow team. When filing the bug, set the verbosity to 10 (on Linux, `export AUTOGRAPH_VERBOSITY=10`) and attach the full output.\n",
      "Cause: module 'gast' has no attribute 'Num'\n",
      "WARNING:tensorflow:AutoGraph could not transform <bound method MultiHeadAttention.call of <rasa.utils.tensorflow.transformer.MultiHeadAttention object at 0x7fef03dbd090>> and will run it as-is.\n",
      "Please report this to the TensorFlow team. When filing the bug, set the verbosity to 10 (on Linux, `export AUTOGRAPH_VERBOSITY=10`) and attach the full output.\n",
      "Cause: module 'gast' has no attribute 'Num'\n",
      "WARNING: AutoGraph could not transform <bound method MultiHeadAttention.call of <rasa.utils.tensorflow.transformer.MultiHeadAttention object at 0x7fef03dbd090>> and will run it as-is.\n",
      "Please report this to the TensorFlow team. When filing the bug, set the verbosity to 10 (on Linux, `export AUTOGRAPH_VERBOSITY=10`) and attach the full output.\n",
      "Cause: module 'gast' has no attribute 'Num'\n",
      "WARNING:tensorflow:AutoGraph could not transform <bound method DenseWithSparseWeights.call of <rasa.utils.tensorflow.layers.DenseWithSparseWeights object at 0x7fef03dbd0d0>> and will run it as-is.\n",
      "Please report this to the TensorFlow team. When filing the bug, set the verbosity to 10 (on Linux, `export AUTOGRAPH_VERBOSITY=10`) and attach the full output.\n",
      "Cause: Bad argument number for Name: 3, expecting 4\n",
      "WARNING: AutoGraph could not transform <bound method DenseWithSparseWeights.call of <rasa.utils.tensorflow.layers.DenseWithSparseWeights object at 0x7fef03dbd0d0>> and will run it as-is.\n",
      "Please report this to the TensorFlow team. When filing the bug, set the verbosity to 10 (on Linux, `export AUTOGRAPH_VERBOSITY=10`) and attach the full output.\n",
      "Cause: Bad argument number for Name: 3, expecting 4\n",
      "WARNING:tensorflow:AutoGraph could not transform <bound method DenseWithSparseWeights.call of <rasa.utils.tensorflow.layers.DenseWithSparseWeights object at 0x7fef03d93850>> and will run it as-is.\n",
      "Please report this to the TensorFlow team. When filing the bug, set the verbosity to 10 (on Linux, `export AUTOGRAPH_VERBOSITY=10`) and attach the full output.\n",
      "Cause: Bad argument number for Name: 3, expecting 4\n",
      "WARNING: AutoGraph could not transform <bound method DenseWithSparseWeights.call of <rasa.utils.tensorflow.layers.DenseWithSparseWeights object at 0x7fef03d93850>> and will run it as-is.\n",
      "Please report this to the TensorFlow team. When filing the bug, set the verbosity to 10 (on Linux, `export AUTOGRAPH_VERBOSITY=10`) and attach the full output.\n",
      "Cause: Bad argument number for Name: 3, expecting 4\n",
      "WARNING:tensorflow:AutoGraph could not transform <bound method DenseWithSparseWeights.call of <rasa.utils.tensorflow.layers.DenseWithSparseWeights object at 0x7fef03d939d0>> and will run it as-is.\n",
      "Please report this to the TensorFlow team. When filing the bug, set the verbosity to 10 (on Linux, `export AUTOGRAPH_VERBOSITY=10`) and attach the full output.\n",
      "Cause: Bad argument number for Name: 3, expecting 4\n",
      "WARNING: AutoGraph could not transform <bound method DenseWithSparseWeights.call of <rasa.utils.tensorflow.layers.DenseWithSparseWeights object at 0x7fef03d939d0>> and will run it as-is.\n",
      "Please report this to the TensorFlow team. When filing the bug, set the verbosity to 10 (on Linux, `export AUTOGRAPH_VERBOSITY=10`) and attach the full output.\n",
      "Cause: Bad argument number for Name: 3, expecting 4\n",
      "WARNING:tensorflow:AutoGraph could not transform <bound method DenseWithSparseWeights.call of <rasa.utils.tensorflow.layers.DenseWithSparseWeights object at 0x7feefc34ec50>> and will run it as-is.\n",
      "Please report this to the TensorFlow team. When filing the bug, set the verbosity to 10 (on Linux, `export AUTOGRAPH_VERBOSITY=10`) and attach the full output.\n",
      "Cause: Bad argument number for Name: 3, expecting 4\n",
      "WARNING: AutoGraph could not transform <bound method DenseWithSparseWeights.call of <rasa.utils.tensorflow.layers.DenseWithSparseWeights object at 0x7feefc34ec50>> and will run it as-is.\n",
      "Please report this to the TensorFlow team. When filing the bug, set the verbosity to 10 (on Linux, `export AUTOGRAPH_VERBOSITY=10`) and attach the full output.\n",
      "Cause: Bad argument number for Name: 3, expecting 4\n",
      "WARNING:tensorflow:AutoGraph could not transform <bound method DenseWithSparseWeights.call of <rasa.utils.tensorflow.layers.DenseWithSparseWeights object at 0x7feef9e0ca10>> and will run it as-is.\n",
      "Please report this to the TensorFlow team. When filing the bug, set the verbosity to 10 (on Linux, `export AUTOGRAPH_VERBOSITY=10`) and attach the full output.\n",
      "Cause: Bad argument number for Name: 3, expecting 4\n",
      "WARNING: AutoGraph could not transform <bound method DenseWithSparseWeights.call of <rasa.utils.tensorflow.layers.DenseWithSparseWeights object at 0x7feef9e0ca10>> and will run it as-is.\n",
      "Please report this to the TensorFlow team. When filing the bug, set the verbosity to 10 (on Linux, `export AUTOGRAPH_VERBOSITY=10`) and attach the full output.\n",
      "Cause: Bad argument number for Name: 3, expecting 4\n",
      "WARNING:tensorflow:AutoGraph could not transform <bound method DenseWithSparseWeights.call of <rasa.utils.tensorflow.layers.DenseWithSparseWeights object at 0x7feef9e22890>> and will run it as-is.\n",
      "Please report this to the TensorFlow team. When filing the bug, set the verbosity to 10 (on Linux, `export AUTOGRAPH_VERBOSITY=10`) and attach the full output.\n",
      "Cause: Bad argument number for Name: 3, expecting 4\n",
      "WARNING: AutoGraph could not transform <bound method DenseWithSparseWeights.call of <rasa.utils.tensorflow.layers.DenseWithSparseWeights object at 0x7feef9e22890>> and will run it as-is.\n",
      "Please report this to the TensorFlow team. When filing the bug, set the verbosity to 10 (on Linux, `export AUTOGRAPH_VERBOSITY=10`) and attach the full output.\n",
      "Cause: Bad argument number for Name: 3, expecting 4\n",
      "WARNING:tensorflow:AutoGraph could not transform <bound method Ffnn.call of <rasa.utils.tensorflow.layers.Ffnn object at 0x7feef9e18310>> and will run it as-is.\n",
      "Please report this to the TensorFlow team. When filing the bug, set the verbosity to 10 (on Linux, `export AUTOGRAPH_VERBOSITY=10`) and attach the full output.\n",
      "Cause: module 'gast' has no attribute 'Num'\n",
      "WARNING: AutoGraph could not transform <bound method Ffnn.call of <rasa.utils.tensorflow.layers.Ffnn object at 0x7feef9e18310>> and will run it as-is.\n",
      "Please report this to the TensorFlow team. When filing the bug, set the verbosity to 10 (on Linux, `export AUTOGRAPH_VERBOSITY=10`) and attach the full output.\n",
      "Cause: module 'gast' has no attribute 'Num'\n",
      "WARNING:tensorflow:AutoGraph could not transform <bound method Embed.call of <rasa.utils.tensorflow.layers.Embed object at 0x7feef9e4c910>> and will run it as-is.\n",
      "Please report this to the TensorFlow team. When filing the bug, set the verbosity to 10 (on Linux, `export AUTOGRAPH_VERBOSITY=10`) and attach the full output.\n",
      "Cause: Bad argument number for Name: 3, expecting 4\n",
      "WARNING: AutoGraph could not transform <bound method Embed.call of <rasa.utils.tensorflow.layers.Embed object at 0x7feef9e4c910>> and will run it as-is.\n",
      "Please report this to the TensorFlow team. When filing the bug, set the verbosity to 10 (on Linux, `export AUTOGRAPH_VERBOSITY=10`) and attach the full output.\n",
      "Cause: Bad argument number for Name: 3, expecting 4\n",
      "WARNING:tensorflow:AutoGraph could not transform <bound method Embed.call of <rasa.utils.tensorflow.layers.Embed object at 0x7feef9e3a650>> and will run it as-is.\n",
      "Please report this to the TensorFlow team. When filing the bug, set the verbosity to 10 (on Linux, `export AUTOGRAPH_VERBOSITY=10`) and attach the full output.\n",
      "Cause: Bad argument number for Name: 3, expecting 4\n",
      "WARNING: AutoGraph could not transform <bound method Embed.call of <rasa.utils.tensorflow.layers.Embed object at 0x7feef9e3a650>> and will run it as-is.\n",
      "Please report this to the TensorFlow team. When filing the bug, set the verbosity to 10 (on Linux, `export AUTOGRAPH_VERBOSITY=10`) and attach the full output.\n",
      "Cause: Bad argument number for Name: 3, expecting 4\n",
      "WARNING:tensorflow:AutoGraph could not transform <bound method Embed.call of <rasa.utils.tensorflow.layers.Embed object at 0x7fef03bc75d0>> and will run it as-is.\n",
      "Please report this to the TensorFlow team. When filing the bug, set the verbosity to 10 (on Linux, `export AUTOGRAPH_VERBOSITY=10`) and attach the full output.\n",
      "Cause: Bad argument number for Name: 3, expecting 4\n",
      "WARNING: AutoGraph could not transform <bound method Embed.call of <rasa.utils.tensorflow.layers.Embed object at 0x7fef03bc75d0>> and will run it as-is.\n",
      "Please report this to the TensorFlow team. When filing the bug, set the verbosity to 10 (on Linux, `export AUTOGRAPH_VERBOSITY=10`) and attach the full output.\n",
      "Cause: Bad argument number for Name: 3, expecting 4\n",
      "WARNING:tensorflow:AutoGraph could not transform <bound method CRF.call of <rasa.utils.tensorflow.layers.CRF object at 0x7fef03bc7510>> and will run it as-is.\n",
      "Please report this to the TensorFlow team. When filing the bug, set the verbosity to 10 (on Linux, `export AUTOGRAPH_VERBOSITY=10`) and attach the full output.\n",
      "Cause: module 'gast' has no attribute 'Num'\n",
      "WARNING: AutoGraph could not transform <bound method CRF.call of <rasa.utils.tensorflow.layers.CRF object at 0x7fef03bc7510>> and will run it as-is.\n",
      "Please report this to the TensorFlow team. When filing the bug, set the verbosity to 10 (on Linux, `export AUTOGRAPH_VERBOSITY=10`) and attach the full output.\n",
      "Cause: module 'gast' has no attribute 'Num'\n"
     ]
    },
    {
     "name": "stderr",
     "output_type": "stream",
     "text": [
      "100%|██████████| 52/52 [00:00<00:00, 78.96it/s]\n",
      "/usr/local/lib/python3.7/dist-packages/sklearn/metrics/_classification.py:1272: UndefinedMetricWarning: Precision and F-score are ill-defined and being set to 0.0 in labels with no predicted samples. Use `zero_division` parameter to control this behavior.\n",
      "  _warn_prf(average, modifier, msg_start, len(result))\n",
      "/usr/local/lib/python3.7/dist-packages/sklearn/metrics/_classification.py:1272: UndefinedMetricWarning: Precision is ill-defined and being set to 0.0 in labels with no predicted samples. Use `zero_division` parameter to control this behavior.\n",
      "  _warn_prf(average, modifier, msg_start, len(result))\n"
     ]
    },
    {
     "name": "stdout",
     "output_type": "stream",
     "text": [
      "Done testing...\n"
     ]
    },
    {
     "data": {
      "image/png": "[encoded data removed]",
      "text/plain": [
       "<Figure size 1440x1440 with 2 Axes>"
      ]
     },
     "metadata": {
      "needs_background": "light",
      "tags": []
     },
     "output_type": "display_data"
    }
   ],
   "source": [
    "#Evaluate and plot\n",
    "rasa.test(model_path, stories_directory, nlu_data_directory)\n",
    "\n",
    "print(\"Done testing...\")"
   ]
  }
 ],
 "metadata": {
  "colab": {
   "authorship_tag": "ABX9TyNnjoG/O1K/KRDTSadMjOtw",
   "collapsed_sections": [],
   "mount_file_id": "1ZsQKBDd8XPvivgYK5sDjbtCjGWOJnqwm",
   "name": "ChatbotPOC.ipynb",
   "provenance": [],
   "toc_visible": true
  },
  "kernelspec": {
   "display_name": "chatbot",
   "language": "python",
   "name": "chatbot"
  },
  "language_info": {
   "codemirror_mode": {
    "name": "ipython",
    "version": 3
   },
   "file_extension": ".py",
   "mimetype": "text/x-python",
   "name": "python",
   "nbconvert_exporter": "python",
   "pygments_lexer": "ipython3",
   "version": "3.8.8"
  }
 },
 "nbformat": 4,
 "nbformat_minor": 4
}
